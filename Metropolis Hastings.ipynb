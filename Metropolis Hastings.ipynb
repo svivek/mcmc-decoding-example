{
 "cells": [
  {
   "cell_type": "markdown",
   "metadata": {
    "slideshow": {
     "slide_type": "slide"
    }
   },
   "source": [
    "# Decoding a substitution cipher using the Metropolis-Hastings algorithm "
   ]
  },
  {
   "cell_type": "markdown",
   "metadata": {
    "slideshow": {
     "slide_type": "subslide"
    }
   },
   "source": [
    "This notebook describes how we can use the Metropolis-Hastings algorithm to break a simple substitution cipher. It expands on the story described in Perci Diaconis' 2009 paper titled [The Markov Chain Monte Carlo Revolution](https://www.ams.org/journals/bull/2009-46-02/S0273-0979-08-01238-X/S0273-0979-08-01238-X.pdf). \n",
    "\n",
    "The story in the introduction of the paper goes that the California state prison psychologist approached the Stanford statistics department to help them out with a problem: Prisoners were exchanging coded messages and they wanted to decode the messages. The folks at Stanford conjectured that the prisoners were systematically mapping characters to others using a fixed key---that is, they were using a substitution cipher---and used the Metropolis-Hastings algorithm to find the key."
   ]
  },
  {
   "cell_type": "markdown",
   "metadata": {
    "slideshow": {
     "slide_type": "slide"
    }
   },
   "source": [
    "## Substitution ciphers\n",
    "\n",
    "Substitution ciphers encode and decode plain text using a key that maps each character to another character. Suppose the key was the character map in the table below:\n",
    "\n",
    "\n",
    "|original | encoded |\n",
    "|---------|---------|\n",
    "|a        | z       |\n",
    "|p        | 4       |\n",
    "|l        | 5       |\n",
    "|e        | a       |\n",
    "\n",
    "Then the word `apple` should be mapped to `z445a`. "
   ]
  },
  {
   "cell_type": "markdown",
   "metadata": {
    "slideshow": {
     "slide_type": "notes"
    }
   },
   "source": [
    "Let us implement the encoding function."
   ]
  },
  {
   "cell_type": "code",
   "execution_count": 1,
   "metadata": {
    "slideshow": {
     "slide_type": "subslide"
    }
   },
   "outputs": [],
   "source": [
    "def code(text, key): \n",
    "    return ''.join(list(map(lambda char: key[char], text)))"
   ]
  },
  {
   "cell_type": "code",
   "execution_count": 2,
   "metadata": {
    "slideshow": {
     "slide_type": "subslide"
    }
   },
   "outputs": [
    {
     "data": {
      "text/plain": [
       "'z445a'"
      ]
     },
     "execution_count": 2,
     "metadata": {},
     "output_type": "execute_result"
    }
   ],
   "source": [
    "code('apple', {'a': 'z', 'p': '4', 'l': '5', 'e': 'a'})"
   ]
  },
  {
   "cell_type": "markdown",
   "metadata": {
    "slideshow": {
     "slide_type": "subslide"
    }
   },
   "source": [
    "Decoding the cipher text can be performed by applying the reverse mapping."
   ]
  },
  {
   "cell_type": "code",
   "execution_count": 3,
   "metadata": {},
   "outputs": [
    {
     "data": {
      "text/plain": [
       "'apple'"
      ]
     },
     "execution_count": 3,
     "metadata": {},
     "output_type": "execute_result"
    }
   ],
   "source": [
    "code('z445a', {'z': 'a', '4': 'p', '5': 'l', 'a': 'e'})"
   ]
  },
  {
   "cell_type": "markdown",
   "metadata": {
    "slideshow": {
     "slide_type": "slide"
    }
   },
   "source": [
    "## Scoring keys"
   ]
  },
  {
   "cell_type": "markdown",
   "metadata": {
    "slideshow": {
     "slide_type": "notes"
    }
   },
   "source": [
    "If we want to decode some encrypted text, we need to find a key that works. In other words, we need to search over the space of keys. Note that the key is a discrete object here -- it is a permutation of the alphabet. \n",
    "\n",
    "To guide this search, we need some way to quantify what makes one key better than another. Intuitively, a good key is one that makes the decoded text readable. In order to score readability of some text, we can use as a surrogate the probability of the text looking like English. As a coarse approximation of this probability, we will use character-level bigram probabilities.\n",
    "\n",
    "For any sequence of characters $c_1c_2c_3\\cdots c_n$, we will compute its probability (that is, the probability of it being English) as\n",
    "\n",
    "$$P(c_1c_2c_3\\cdots c_n) = P(c_1) P(c_2 \\mid c_1) P(c_3 \\mid c_2) \\cdots P(c_n \\mid c_{n-1})$$\n",
    "\n",
    "From the above example, the probability of `apple` is $P(a)P(p \\mid a)P(p \\mid p)P(l \\mid p)P(e \\mid l)$.\n",
    "\n",
    "To make things simple, we will ignore the first character because it is not going to make much of a difference anyway. Note that to calculate this probability, we will need a table of bigram transition probabilities, i.e. $P(c | c')$, for every pair of characters $c$ and $c'$. If we have this bigram probability table, then we can score sequences of characters. \n",
    "\n",
    "**Implementation notes**: \n",
    "\n",
    "1. To avoid underflow, we will only keep log probabilities, not probabilities. So all the multiplications will become additions. That is, we are actually computing\n",
    "$$\\log P(c_1c_2c_3\\cdots c_n) = \\log P(c_1) + \\log P(c_2 \\mid c_1) + \\cdots  + \\log P(c_n \\mid c_{n-1})$$\n",
    "\n",
    "2. If our bigram log probabilities table does not have a particular character pair, then we need to allocate a small probability (or a small log probability) to this rare event."
   ]
  },
  {
   "cell_type": "code",
   "execution_count": 4,
   "metadata": {
    "slideshow": {
     "slide_type": "slide"
    }
   },
   "outputs": [],
   "source": [
    "LOG_EPSILON = -20\n",
    "\n",
    "def goodness(text, bigram_table):\n",
    "    bigrams = zip(text, text[1:])\n",
    "    sum = 0\n",
    "    for b in bigrams:\n",
    "        sum += bigram_table.get(b) or LOG_EPSILON\n",
    "    return sum"
   ]
  },
  {
   "cell_type": "markdown",
   "metadata": {
    "slideshow": {
     "slide_type": "slide"
    }
   },
   "source": [
    "## Calculating the bigram log probabilities\n",
    "\n",
    "We still need to take care of one more things before we can get to the Metropolis-Hastings part. We need a way to get those bigram log probabilities that are used to score how good a key is. \n",
    "\n",
    "For simplicity, suppose we only deal with upper case alphanumeric characters and spaces."
   ]
  },
  {
   "cell_type": "code",
   "execution_count": 5,
   "metadata": {
    "slideshow": {
     "slide_type": "subslide"
    }
   },
   "outputs": [],
   "source": [
    "alphabet = \"ABCDEFGHIJKLMNOPQRSTUVWXYZ0123456789 \""
   ]
  },
  {
   "cell_type": "markdown",
   "metadata": {
    "slideshow": {
     "slide_type": "notes"
    }
   },
   "source": [
    "With this alphabet of 37 characters, we need transition probablities for all pairs of characters. That is we need $37^2 = 1369$ probabilities (actually, $37\\cdot 36 = 1332$ numbers because every $P(\\cdot | c)$ should sum to 1). In any case, this is a rather small number of probabilities to compute. We can obtain reasonably reliable estimates of these probabilities from a large collection of text. \n",
    "\n",
    "We need to read the text from some file and clean it up by keeping only those characters that are in our alphabet."
   ]
  },
  {
   "cell_type": "code",
   "execution_count": 6,
   "metadata": {
    "slideshow": {
     "slide_type": "subslide"
    }
   },
   "outputs": [],
   "source": [
    "import re\n",
    "\n",
    "multispace_regex = re.compile('\\s+')\n",
    "alphanumeric_regex = re.compile('[^A-Z0-9 ]+')\n",
    "\n",
    "def cleanup(string):\n",
    "    upper = string.upper()\n",
    "    only_alphanumeric = alphanumeric_regex.sub(' ', upper).strip()\n",
    "    single_spaced = multispace_regex.sub(' ', only_alphanumeric)\n",
    "    return single_spaced\n",
    "\n",
    "def read_file(file):\n",
    "    with open(file, 'r') as f:\n",
    "        return cleanup(f.read())"
   ]
  },
  {
   "cell_type": "markdown",
   "metadata": {
    "slideshow": {
     "slide_type": "notes"
    }
   },
   "source": [
    "At this point, we have everything we need to calculate the bigram log probabilities."
   ]
  },
  {
   "cell_type": "code",
   "execution_count": 7,
   "metadata": {
    "slideshow": {
     "slide_type": "subslide"
    }
   },
   "outputs": [],
   "source": [
    "from collections import Counter\n",
    "import math\n",
    "\n",
    "def bigram_log_probabilities(file):\n",
    "    text = read_file(file)\n",
    "    \n",
    "    character_counts = Counter(text)\n",
    "    bigram_counts = Counter(zip(text, text[1:]))\n",
    "    bigrams = bigram_counts.keys()\n",
    "    \n",
    "    return dict(map(lambda k: [k, math.log(bigram_counts[k]) - math.log(character_counts[k[0]])], bigrams))"
   ]
  },
  {
   "cell_type": "markdown",
   "metadata": {
    "slideshow": {
     "slide_type": "notes"
    }
   },
   "source": [
    "We can calucate the log probabilities from any text. If the text is sufficiently large, we will get good enough estimates. Let us use *War and peace*. It has 3076470 characters in all, which should be good enough."
   ]
  },
  {
   "cell_type": "code",
   "execution_count": 8,
   "metadata": {
    "slideshow": {
     "slide_type": "subslide"
    }
   },
   "outputs": [],
   "source": [
    "book = 'data/war-and-peace.txt'\n",
    "\n",
    "bigram_table = bigram_log_probabilities(book)"
   ]
  },
  {
   "cell_type": "markdown",
   "metadata": {
    "slideshow": {
     "slide_type": "notes"
    }
   },
   "source": [
    "Let us see what the `bigram_table` has. We can ask for log probabilities of pairs of characters."
   ]
  },
  {
   "cell_type": "code",
   "execution_count": 9,
   "metadata": {
    "slideshow": {
     "slide_type": "subslide"
    }
   },
   "outputs": [
    {
     "name": "stdout",
     "output_type": "stream",
     "text": [
      "[-1.579580457348568, -7.6167927784159115]\n"
     ]
    }
   ],
   "source": [
    "print([bigram_table[('W', 'A')], bigram_table[('W', 'U')]])"
   ]
  },
  {
   "cell_type": "markdown",
   "metadata": {
    "slideshow": {
     "slide_type": "notes"
    }
   },
   "source": [
    "And we can use the goodness function above to get log probabilities of text. Keep in mind that this log probability is estimated *according* to this bigram model."
   ]
  },
  {
   "cell_type": "code",
   "execution_count": 10,
   "metadata": {
    "slideshow": {
     "slide_type": "subslide"
    }
   },
   "outputs": [
    {
     "name": "stdout",
     "output_type": "stream",
     "text": [
      "Log probability of PEACE = -9.744572103997422\n"
     ]
    }
   ],
   "source": [
    "print(\"Log probability of PEACE = \" +str(goodness(\"PEACE\", bigram_table)))"
   ]
  },
  {
   "cell_type": "code",
   "execution_count": 11,
   "metadata": {
    "slideshow": {
     "slide_type": "subslide"
    }
   },
   "outputs": [
    {
     "name": "stdout",
     "output_type": "stream",
     "text": [
      "Log probability of PEACW= -17.27482215251294\n"
     ]
    }
   ],
   "source": [
    "print(\"Log probability of PEACW= \" +str(goodness(\"PEACW\", bigram_table)))"
   ]
  },
  {
   "cell_type": "markdown",
   "metadata": {
    "slideshow": {
     "slide_type": "notes"
    }
   },
   "source": [
    "Unsurprisingly, `PEACE` has a higher score than `PEACW`."
   ]
  },
  {
   "cell_type": "markdown",
   "metadata": {
    "slideshow": {
     "slide_type": "slide"
    }
   },
   "source": [
    "## Breaking the substitution cipher"
   ]
  },
  {
   "cell_type": "markdown",
   "metadata": {
    "slideshow": {
     "slide_type": "notes"
    }
   },
   "source": [
    "To break the cipher, we will start off with a random key (i.e. a random permutation of the alphabet) and iteratively improve upon it. Let us make a random key first."
   ]
  },
  {
   "cell_type": "code",
   "execution_count": 12,
   "metadata": {
    "slideshow": {
     "slide_type": "subslide"
    }
   },
   "outputs": [],
   "source": [
    "import random\n",
    "\n",
    "def make_random_key():\n",
    "    l = list(alphabet)\n",
    "    random.shuffle(l)\n",
    "    return dict(zip(alphabet, l))"
   ]
  },
  {
   "cell_type": "markdown",
   "metadata": {
    "slideshow": {
     "slide_type": "notes"
    }
   },
   "source": [
    "This will create a random key that looks like an expanded version of the table above.\n",
    "\n",
    "At the heart of the decoding algorithm is the idea that we will navigate the space of keys. This means that from any key, we need to be able to move to a random neighbor. We can define neighborhood very simply by transposing the mappings for two randomly chosen characters."
   ]
  },
  {
   "cell_type": "code",
   "execution_count": 13,
   "metadata": {
    "slideshow": {
     "slide_type": "subslide"
    }
   },
   "outputs": [],
   "source": [
    "def transpose_random(key):\n",
    "    pair = random.sample(alphabet, 2)\n",
    "    new_key = dict(key)\n",
    "    new_key[pair[0]] = key[pair[1]]\n",
    "    new_key[pair[1]] = key[pair[0]]\n",
    "    return new_key"
   ]
  },
  {
   "cell_type": "markdown",
   "metadata": {
    "slideshow": {
     "slide_type": "notes"
    }
   },
   "source": [
    "Now we can implement the Metropolis algorithm. We will start off with a randomly constructed key and iterate for thousands of steps. At each step, the algorithm will decode the key to produce a candidate plain text. Remember that if the key is good, the plain text should be readable English. In other words, we can score the key using the bigram model we have.\n",
    "\n",
    "Our goal is to improve the score as the iterations progress. To do that, we can move to a random neighbor of the current key by transposing the mappings of two randomly chosen characters and then compute the new key's score. If the new score is better than the old one, we will immediately move to the proposed key. \n",
    "\n",
    "If the new key is not better, we will still allow for the possiblity of moving. To do that, we can toss a coin whose bias is the ratio of the two probabilities. (This number should be between zero and one because the new key has a lower score.) The coin decides whether we will move to the proposed key. \n",
    "\n",
    "The important thing to note here is that the search can sometimes move to a worse state than where it is, but moving to a really bad state is a low probability event. "
   ]
  },
  {
   "cell_type": "code",
   "execution_count": 14,
   "metadata": {
    "slideshow": {
     "slide_type": "subslide"
    }
   },
   "outputs": [],
   "source": [
    "def decode(cipher_text, bigram_table, iters = 10000, print_every = 1000):\n",
    "    current_key = make_random_key()\n",
    "    \n",
    "    scores = []\n",
    "    \n",
    "    for i in range(0, iters):\n",
    "        decoded = code(cipher_text, current_key)\n",
    "        score = goodness(decoded, bigram_table)\n",
    "        \n",
    "        if i % print_every == 0:\n",
    "            print(str(i) + \"\\t\" + decoded + \"\\n\")\n",
    "        \n",
    "        changed_key = transpose_random(current_key)\n",
    "        changed_score = goodness(code(cipher_text, changed_key), bigram_table)\n",
    "\n",
    "        if changed_score > score:\n",
    "            current_key = changed_key\n",
    "        else:\n",
    "            diff = changed_score - score\n",
    "            if math.log(random.random())  < diff:\n",
    "                current_key = changed_key\n",
    "\n",
    "    decoded = code(cipher_text, current_key)\n",
    "    print(\"Final decoded: \" + decoded)\n",
    "    return decoded"
   ]
  },
  {
   "cell_type": "markdown",
   "metadata": {
    "slideshow": {
     "slide_type": "notes"
    }
   },
   "source": [
    "Let us take this for a spin. To start off, let us create a new key for encoding text."
   ]
  },
  {
   "cell_type": "code",
   "execution_count": 15,
   "metadata": {
    "slideshow": {
     "slide_type": "subslide"
    }
   },
   "outputs": [
    {
     "name": "stdout",
     "output_type": "stream",
     "text": [
      "{'A': 'H', 'B': '7', 'C': 'C', 'D': 'W', 'E': '3', 'F': 'K', 'G': 'U', 'H': 'V', 'I': 'M', 'J': 'Q', 'K': '8', 'L': '9', 'M': 'D', 'N': '6', 'O': 'J', 'P': 'E', 'Q': 'Y', 'R': 'I', 'S': 'F', 'T': 'A', 'U': 'P', 'V': 'L', 'W': '4', 'X': ' ', 'Y': 'S', 'Z': '5', '0': 'G', '1': 'T', '2': '1', '3': 'Z', '4': 'R', '5': 'N', '6': '2', '7': 'X', '8': '0', '9': 'B', ' ': 'O'}\n"
     ]
    }
   ],
   "source": [
    "key = make_random_key()\n",
    "\n",
    "print(key)"
   ]
  },
  {
   "cell_type": "markdown",
   "metadata": {
    "slideshow": {
     "slide_type": "notes"
    }
   },
   "source": [
    "Let us also read some plain text. The file `data/plaintext.txt` has the first few lines from the book *The Wallpaper*."
   ]
  },
  {
   "cell_type": "code",
   "execution_count": 16,
   "metadata": {
    "slideshow": {
     "slide_type": "subslide"
    }
   },
   "outputs": [
    {
     "name": "stdout",
     "output_type": "stream",
     "text": [
      "IT IS VERY SELDOM THAT MERE ORDINARY PEOPLE LIKE JOHN AND MYSELF SECURE ANCESTRAL HALLS FOR THE SUMMER A COLONIAL MANSION A HEREDITARY ESTATE I WOULD SAY A HAUNTED HOUSE AND REACH THE HEIGHT OF ROMANTIC FELICITY BUT THAT WOULD BE ASKING TOO MUCH OF FATE STILL I WILL PROUDLY DECLARE THAT THERE IS SOMETHING QUEER ABOUT IT\n"
     ]
    }
   ],
   "source": [
    "plain_text = read_file('data/plaintext.txt')\n",
    "\n",
    "print(plain_text)"
   ]
  },
  {
   "cell_type": "markdown",
   "metadata": {
    "slideshow": {
     "slide_type": "notes"
    }
   },
   "source": [
    "We can now encode the plain text using the randomly generated key."
   ]
  },
  {
   "cell_type": "code",
   "execution_count": 17,
   "metadata": {
    "slideshow": {
     "slide_type": "subslide"
    }
   },
   "outputs": [
    {
     "name": "stdout",
     "output_type": "stream",
     "text": [
      "MAOMFOL3ISOF39WJDOAVHAOD3I3OJIWM6HISOE3JE93O9M83OQJV6OH6WODSF39KOF3CPI3OH6C3FAIH9OVH99FOKJIOAV3OFPDD3IOHOCJ9J6MH9ODH6FMJ6OHOV3I3WMAHISO3FAHA3OMO4JP9WOFHSOHOVHP6A3WOVJPF3OH6WOI3HCVOAV3OV3MUVAOJKOIJDH6AMCOK39MCMASO7PAOAVHAO4JP9WO73OHF8M6UOAJJODPCVOJKOKHA3OFAM99OMO4M99OEIJPW9SOW3C9HI3OAVHAOAV3I3OMFOFJD3AVM6UOYP33IOH7JPAOMA\n"
     ]
    }
   ],
   "source": [
    "cipher_text = code(plain_text, key)\n",
    "\n",
    "print(cipher_text)"
   ]
  },
  {
   "cell_type": "markdown",
   "metadata": {
    "slideshow": {
     "slide_type": "notes"
    }
   },
   "source": [
    "This looks nothing like the plain text. Hopefully the Metropolis algorithm will decode it."
   ]
  },
  {
   "cell_type": "code",
   "execution_count": 18,
   "metadata": {
    "slideshow": {
     "slide_type": "slide"
    }
   },
   "outputs": [
    {
     "name": "stdout",
     "output_type": "stream",
     "text": [
      "0\tQEXQ5XG2H0X52TRKWXEIYEXW2H2XKHRQAYH0XF2KFT2XTQB2X4KIAXYARXW052TMX528LH2XYA825EHYTXIYTT5XMKHXEI2X5LWW2HXYX8KTKAQYTXWYA5QKAXYXI2H2RQEYH0X25EYE2XQXVKLTRX5Y0XYXIYLAE2RXIKL52XYARXH2Y8IXEI2XI2Q7IEXKMXHKWYAEQ8XM2TQ8QE0XULEXEIYEXVKLTRXU2XY5BQA7XEKKXWL8IXKMXMYE2X5EQTTXQXVQTTXFHKLRT0XR28TYH2XEIYEXEI2H2XQ5X5KW2EIQA7XOL22HXYUKLEXQE\n",
      "\n",
      "1000\tIP IS JERY SENMAT PLOP TERE ARMIKORY GEAGNE NIVE ZALK OKM TYSEND SECURE OKCESPRON LONNS DAR PLE SUTTER O CANAKION TOKSIAK O LEREMIPORY ESPOPE I WAUNM SOY O LOUKPEM LAUSE OKM REOCL PLE LEIHLP AD RATOKPIC DENICIPY BUP PLOP WAUNM BE OSVIKH PAA TUCL AD DOPE SPINN I WINN GRAUMNY MECNORE PLOP PLERE IS SATEPLIKH FUEER OBAUP IP\n",
      "\n",
      "2000\tIT IS ZEMY SELFOC TRAT CEME OMFINAMY PEOPLE LIKE WORN ANF CYSELV SEDUME ANDESTMAL RALLS VOM TRE SUCCEM A DOLONIAL CANSION A REMEFITAMY ESTATE I HOULF SAY A RAUNTEF ROUSE ANF MEADR TRE REIGRT OV MOCANTID VELIDITY BUT TRAT HOULF BE ASKING TOO CUDR OV VATE STILL I HILL PMOUFLY FEDLAME TRAT TREME IS SOCETRING QUEEM ABOUT IT\n",
      "\n",
      "3000\tIT IS VERY SELFOM THAT MERE ORFINARY BEOBLE LIKE ZOHN ANF MYSELP SECURE ANCESTRAL HALLS POR THE SUMMER A COLONIAL MANSION A HEREFITARY ESTATE I WOULF SAY A HAUNTEF HOUSE ANF REACH THE HEIGHT OP ROMANTIC PELICITY DUT THAT WOULF DE ASKING TOO MUCH OP PATE STILL I WILL BROUFLY FECLARE THAT THERE IS SOMETHING JUEER ADOUT IT\n",
      "\n",
      "4000\tIT IS JERY SELDOM THAT MERE ORDINARY BEOBLE LIVE KOHN AND MYSELF SECURE ANCESTRAL HALLS FOR THE SUMMER A COLONIAL MANSION A HEREDITARY ESTATE I WOULD SAY A HAUNTED HOUSE AND REACH THE HEIGHT OF ROMANTIC FELICITY PUT THAT WOULD PE ASVING TOO MUCH OF FATE STILL I WILL BROUDLY DECLARE THAT THERE IS SOMETHING QUEER APOUT IT\n",
      "\n",
      "5000\tIT IS VERY SELDOM THAT MERE ORDINARY PEOPLE LIKE JOHN AND MYSELF SECURE ANCESTRAL HALLS FOR THE SUMMER A COLONIAL MANSION A HEREDITARY ESTATE I WOULD SAY A HAUNTED HOUSE AND REACH THE HEIGHT OF ROMANTIC FELICITY BUT THAT WOULD BE ASKING TOO MUCH OF FATE STILL I WILL PROUDLY DECLARE THAT THERE IS SOMETHING QUEER ABOUT IT\n",
      "\n",
      "6000\tIT IS VERY SELDOM THAT MERE ORDINARY PEOPLE LIKE JOHN AND MYSELW SECURE ANCESTRAL HALLS WOR THE SUMMER A COLONIAL MANSION A HEREDITARY ESTATE I FOULD SAY A HAUNTED HOUSE AND REACH THE HEIGHT OW ROMANTIC WELICITY BUT THAT FOULD BE ASKING TOO MUCH OW WATE STILL I FILL PROUDLY DECLARE THAT THERE IS SOMETHING QUEER ABOUT IT\n",
      "\n",
      "7000\tIT IS VERY SELDOM THAT MERE ORDINARY PEOPLE LIKE ZOHN AND MYSELF SECURE ANCESTRAL HALLS FOR THE SUMMER A COLONIAL MANSION A HEREDITARY ESTATE I WOULD SAY A HAUNTED HOUSE AND REACH THE HEIGHT OF ROMANTIC FELICITY BUT THAT WOULD BE ASKING TOO MUCH OF FATE STILL I WILL PROUDLY DECLARE THAT THERE IS SOMETHING QUEER ABOUT IT\n",
      "\n",
      "8000\tIT IS VERY SELDOM THAT MERE ORDINARY PEOPLE LIKE JOHN AND MYSELF SECURE ANCESTRAL HALLS FOR THE SUMMER A COLONIAL MANSION A HEREDITARY ESTATE I WOULD SAY A HAUNTED HOUSE AND REACH THE HEIGHT OF ROMANTIC FELICITY BUT THAT WOULD BE ASKING TOO MUCH OF FATE STILL I WILL PROUDLY DECLARE THAT THERE IS SOMETHING QUEER ABOUT IT\n",
      "\n",
      "9000\tIT IS VERY SELDOM THAT MERE ORDINARY PEOPLE LIKE JOHN AND MYSELF SECURE ANCESTRAL HALLS FOR THE SUMMER A COLONIAL MANSION A HEREDITARY ESTATE I WOULD SAY A HAUNTED HOUSE AND REACH THE HEIGHT OF ROMANTIC FELICITY BUT THAT WOULD BE ASKING TOO MUCH OF FATE STILL I WILL PROUDLY DECLARE THAT THERE IS SOMETHING QUEER ABOUT IT\n",
      "\n",
      "Final decoded: IT IS VERY SELDOM THAT MERE ORDINARY PEOPLE LIKE JOHN AND MYSELF SECURE ANCESTRAL HALLS FOR THE SUMMER A COLONIAL MANSION A HEREDITARY ESTATE I WOULD SAY A HAUNTED HOUSE AND REACH THE HEIGHT OF ROMANTIC FELICITY BUT THAT WOULD BE ASKING TOO MUCH OF FATE STILL I WILL PROUDLY DECLARE THAT THERE IS SOMETHING QUEER ABOUT IT\n"
     ]
    }
   ],
   "source": [
    "decoded = decode(cipher_text, bigram_table, 10000)"
   ]
  },
  {
   "cell_type": "markdown",
   "metadata": {},
   "source": [
    "To visually compare the original plaintext and the decoded version, we can diff them and inspect the differences. Let's write a helper function that can highlight the differences."
   ]
  },
  {
   "cell_type": "code",
   "execution_count": 19,
   "metadata": {
    "scrolled": true
   },
   "outputs": [],
   "source": [
    "from IPython.display import display, HTML\n",
    "\n",
    "def compare(original_plaintext, decoded):\n",
    "    output = ['<p>']\n",
    "    insert = []\n",
    "    delete = []\n",
    "    num_differences = 0\n",
    "    for o, d in zip(original_plaintext, decoded):\n",
    "        if o == d:\n",
    "            output.extend(insert)\n",
    "            output.extend(delete)\n",
    "            insert = []\n",
    "            delete = []\n",
    "            output.append(o)\n",
    "        else:\n",
    "            insert.append(f'<span style=\"color:green\">{d}</span>')\n",
    "            delete.append(f'<del style=\"color:red\">{o}</del>')\n",
    "            num_differences = num_differences + 1\n",
    "    output.append('</p>')\n",
    "    \n",
    "    display(HTML(''.join(output)))\n",
    "    display(HTML(f'<p><i>{num_differences} characters different.'))\n",
    "    \n"
   ]
  },
  {
   "cell_type": "code",
   "execution_count": 20,
   "metadata": {},
   "outputs": [
    {
     "data": {
      "text/html": [
       "<p>IT IS VERY SELDOM THAT MERE ORDINARY PEOPLE LIKE JOHN AND MYSELF SECURE ANCESTRAL HALLS FOR THE SUMMER A COLONIAL MANSION A HEREDITARY ESTATE I WOULD SAY A HAUNTED HOUSE AND REACH THE HEIGHT OF ROMANTIC FELICITY BUT THAT WOULD BE ASKING TOO MUCH OF FATE STILL I WILL PROUDLY DECLARE THAT THERE IS SOMETHING QUEER ABOUT IT</p>"
      ],
      "text/plain": [
       "<IPython.core.display.HTML object>"
      ]
     },
     "metadata": {},
     "output_type": "display_data"
    },
    {
     "data": {
      "text/html": [
       "<p><i>0 characters different."
      ],
      "text/plain": [
       "<IPython.core.display.HTML object>"
      ]
     },
     "metadata": {},
     "output_type": "display_data"
    }
   ],
   "source": [
    "compare(plain_text, decoded)"
   ]
  },
  {
   "cell_type": "markdown",
   "metadata": {},
   "source": [
    "Let's look at a different example, about the 2014 Japanese Grand Prix. Many of the words in this text were meaningless when *War and Peace* was written. Would the decoding still work?"
   ]
  },
  {
   "cell_type": "code",
   "execution_count": 21,
   "metadata": {},
   "outputs": [],
   "source": [
    "plain_text = cleanup(\n",
    "    \"\"\"The 2014 Japanese Grand Prix was a Formula One motor race held on 5 October 2014 \n",
    "    at the Suzuka Circuit in Suzuka, Mie. It was the 15th race of the 2014 FIA Formula \n",
    "    One World Championship, and the 30th Japanese Grand Prix of the Formula One era. \n",
    "    The 44-lap race was won by Mercedes driver Lewis Hamilton, increasing his lead in the \n",
    "    World Drivers' Championship to ten points over his teammate, Nico Rosberg, who \n",
    "    finished second. Red Bull Racing driver Sebastian Vettel came in third. Heavy rain \n",
    "    from Typhoon Phanfone soaked the track surface and reduced visibility. Jules Bianchi\n",
    "    lost control of his Marussia on the 43rd lap and collided with a tractor crane that \n",
    "    was tending to Adrian Sutil's car, which had spun off on the previous lap. Bianchi \n",
    "    sustained severe head injuries and died nine months later, the first death of a driver\n",
    "    in a Formula One Grand Prix since Ayrton Senna's in 1994. \"\"\"\n",
    ")"
   ]
  },
  {
   "cell_type": "code",
   "execution_count": 22,
   "metadata": {
    "scrolled": false
   },
   "outputs": [
    {
     "name": "stdout",
     "output_type": "stream",
     "text": [
      "0\tLI7J9MNPJ AUA1767JT0A1QJU0EOJBA6JAJFV0GZSAJV17JGVLV0J0AC7JI7SQJV1JXJVCLVD70J9MNPJALJLI7J6Z8ZHAJCE0CZELJE1J6Z8ZHAJGE7JELJBA6JLI7JNXLIJ0AC7JVFJLI7J9MNPJFEAJFV0GZSAJV17JBV0SQJCIAGUEV16IEUJA1QJLI7JKMLIJ AUA1767JT0A1QJU0EOJVFJLI7JFV0GZSAJV17J70AJLI7JPPJSAUJ0AC7JBA6JBV1JDWJG70C7Q76JQ0E470JS7BE6JIAGESLV1JE1C07A6E1TJIE6JS7AQJE1JLI7JBV0SQJQ0E4706JCIAGUEV16IEUJLVJL71JUVE1L6JV470JIE6JL7AGGAL7J1ECVJ0V6D70TJBIVJFE1E6I7QJ67CV1QJ07QJDZSSJ0ACE1TJQ0E470J67DA6LEA1J47LL7SJCAG7JE1JLIE0QJI7A4WJ0AE1JF0VGJLWUIVV1JUIA1FV17J6VAH7QJLI7JL0ACHJ6Z0FAC7JA1QJ07QZC7QJ4E6EDESELWJ ZS76JDEA1CIEJSV6LJCV1L0VSJVFJIE6JGA0Z66EAJV1JLI7JPK0QJSAUJA1QJCVSSEQ7QJBELIJAJL0ACLV0JC0A17JLIALJBA6JL71QE1TJLVJAQ0EA1J6ZLESJ6JCA0JBIECIJIAQJ6UZ1JVFFJV1JLI7JU074EVZ6JSAUJDEA1CIEJ6Z6LAE17QJ674707JI7AQJE1 Z0E76JA1QJQE7QJ1E17JGV1LI6JSAL70JLI7JFE06LJQ7ALIJVFJAJQ0E470JE1JAJFV0GZSAJV17JT0A1QJU0EOJ6E1C7JAW0LV1J6711AJ6JE1JN55P\n",
      "\n",
      "1000\tRYE 1302 GALANEDE FTANS LTIZ WAD A PUTCOMA UNE CURUT TABE YEMS UN 7 UBRUHET 1302 AR RYE DOXOJA BITBOIR IN DOXOJA CIE IR WAD RYE 07RY TABE UP RYE 1302 PIA PUTCOMA UNE WUTMS BYACLIUNDYIL ANS RYE 93RY GALANEDE FTANS LTIZ UP RYE PUTCOMA UNE ETA RYE 22 MAL TABE WAD WUN HK CETBESED STIVET MEWID YACIMRUN INBTEADINF YID MEAS IN RYE WUTMS STIVETD BYACLIUNDYIL RU REN LUINRD UVET YID REACCARE NIBU TUDHETF WYU PINIDYES DEBUNS TES HOMM TABINF STIVET DEHADRIAN VERREM BACE IN RYITS YEAVK TAIN PTUC RKLYUUN LYANPUNE DUAJES RYE RTABJ DOTPABE ANS TESOBES VIDIHIMIRK GOMED HIANBYI MUDR BUNRTUM UP YID CATODDIA UN RYE 29TS MAL ANS BUMMISES WIRY A RTABRUT BTANE RYAR WAD RENSINF RU ASTIAN DORIM D BAT WYIBY YAS DLON UPP UN RYE LTEVIUOD MAL HIANBYI DODRAINES DEVETE YEAS INGOTIED ANS SIES NINE CUNRYD MARET RYE PITDR SEARY UP A STIVET IN A PUTCOMA UNE FTANS LTIZ DINBE AKTRUN DENNA D IN 0662\n",
      "\n",
      "2000\tTHE 1502 JALANEDE GRANS LRIX PAD A FORBUMA ONE BOTOR RACE HEMS ON 7 OCTOKER 1502 AT THE DUQUZA CIRCUIT IN DUQUZA BIE IT PAD THE 07TH RACE OF THE 1502 FIA FORBUMA ONE PORMS CHABLIONDHIL ANS THE 35TH JALANEDE GRANS LRIX OF THE FORBUMA ONE ERA THE 22 MAL RACE PAD PON KY BERCESED SRIVER MEPID HABIMTON INCREADING HID MEAS IN THE PORMS SRIVERD CHABLIONDHIL TO TEN LOINTD OVER HID TEABBATE NICO RODKERG PHO FINIDHES DECONS RES KUMM RACING SRIVER DEKADTIAN VETTEM CABE IN THIRS HEAVY RAIN FROB TYLHOON LHANFONE DOAZES THE TRACZ DURFACE ANS RESUCES VIDIKIMITY JUMED KIANCHI MODT CONTROM OF HID BARUDDIA ON THE 23RS MAL ANS COMMISES PITH A TRACTOR CRANE THAT PAD TENSING TO ASRIAN DUTIM D CAR PHICH HAS DLUN OFF ON THE LREVIOUD MAL KIANCHI DUDTAINES DEVERE HEAS INJURIED ANS SIES NINE BONTHD MATER THE FIRDT SEATH OF A SRIVER IN A FORBUMA ONE GRANS LRIX DINCE AYRTON DENNA D IN 0662\n",
      "\n",
      "3000\tTHE 0712 JALANEDE GRANS LRIZ WAD A FORPUMA ONE POTOR RACE HEMS ON 4 OCTOBER 0712 AT THE DUQUKA CIRCUIT IN DUQUKA PIE IT WAD THE 14TH RACE OF THE 0712 FIA FORPUMA ONE WORMS CHAPLIONDHIL ANS THE 37TH JALANEDE GRANS LRIZ OF THE FORPUMA ONE ERA THE 22 MAL RACE WAD WON BY PERCESED SRIVER MEWID HAPIMTON INCREADING HID MEAS IN THE WORMS SRIVERD CHAPLIONDHIL TO TEN LOINTD OVER HID TEAPPATE NICO RODBERG WHO FINIDHES DECONS RES BUMM RACING SRIVER DEBADTIAN VETTEM CAPE IN THIRS HEAVY RAIN FROP TYLHOON LHANFONE DOAKES THE TRACK DURFACE ANS RESUCES VIDIBIMITY JUMED BIANCHI MODT CONTROM OF HID PARUDDIA ON THE 23RS MAL ANS COMMISES WITH A TRACTOR CRANE THAT WAD TENSING TO ASRIAN DUTIM D CAR WHICH HAS DLUN OFF ON THE LREVIOUD MAL BIANCHI DUDTAINES DEVERE HEAS INJURIED ANS SIES NINE PONTHD MATER THE FIRDT SEATH OF A SRIVER IN A FORPUMA ONE GRANS LRIZ DINCE AYRTON DENNA D IN 1662\n",
      "\n",
      "4000\tTHE 7812 JAPANESE GRAND PRIX WAS A FORBULA ONE BOTOR RACE HELD ON 5 OCTOMER 7812 AT THE SUZUKA CIRCUIT IN SUZUKA BIE IT WAS THE 15TH RACE OF THE 7812 FIA FORBULA ONE WORLD CHABPIONSHIP AND THE 38TH JAPANESE GRAND PRIX OF THE FORBULA ONE ERA THE 22 LAP RACE WAS WON MY BERCEDES DRIVER LEWIS HABILTON INCREASING HIS LEAD IN THE WORLD DRIVERS CHABPIONSHIP TO TEN POINTS OVER HIS TEABBATE NICO ROSMERG WHO FINISHED SECOND RED MULL RACING DRIVER SEMASTIAN VETTEL CABE IN THIRD HEAVY RAIN FROB TYPHOON PHANFONE SOAKED THE TRACK SURFACE AND REDUCED VISIMILITY JULES MIANCHI LOST CONTROL OF HIS BARUSSIA ON THE 23RD LAP AND COLLIDED WITH A TRACTOR CRANE THAT WAS TENDING TO ADRIAN SUTIL S CAR WHICH HAD SPUN OFF ON THE PREVIOUS LAP MIANCHI SUSTAINED SEVERE HEAD INJURIES AND DIED NINE BONTHS LATER THE FIRST DEATH OF A DRIVER IN A FORBULA ONE GRAND PRIX SINCE AYRTON SENNA S IN 1002\n",
      "\n",
      "5000\tTHE 7812 JAPANESE GRAND PRIX WAS A FORMULA ONE MOTOR RACE HELD ON 4 OCTOBER 7812 AT THE SUZUKA CIRCUIT IN SUZUKA MIE IT WAS THE 14TH RACE OF THE 7812 FIA FORMULA ONE WORLD CHAMPIONSHIP AND THE 38TH JAPANESE GRAND PRIX OF THE FORMULA ONE ERA THE 22 LAP RACE WAS WON BY MERCEDES DRIVER LEWIS HAMILTON INCREASING HIS LEAD IN THE WORLD DRIVERS CHAMPIONSHIP TO TEN POINTS OVER HIS TEAMMATE NICO ROSBERG WHO FINISHED SECOND RED BULL RACING DRIVER SEBASTIAN VETTEL CAME IN THIRD HEAVY RAIN FROM TYPHOON PHANFONE SOAKED THE TRACK SURFACE AND REDUCED VISIBILITY JULES BIANCHI LOST CONTROL OF HIS MARUSSIA ON THE 23RD LAP AND COLLIDED WITH A TRACTOR CRANE THAT WAS TENDING TO ADRIAN SUTIL S CAR WHICH HAD SPUN OFF ON THE PREVIOUS LAP BIANCHI SUSTAINED SEVERE HEAD INJURIES AND DIED NINE MONTHS LATER THE FIRST DEATH OF A DRIVER IN A FORMULA ONE GRAND PRIX SINCE AYRTON SENNA S IN 1002\n",
      "\n",
      "6000\tTHE 7812 JAPANESE GRAND PRIX WAS A FORMULA ONE MOTOR RACE HELD ON 6 OCTOBER 7812 AT THE SUZUKA CIRCUIT IN SUZUKA MIE IT WAS THE 16TH RACE OF THE 7812 FIA FORMULA ONE WORLD CHAMPIONSHIP AND THE 38TH JAPANESE GRAND PRIX OF THE FORMULA ONE ERA THE 22 LAP RACE WAS WON BY MERCEDES DRIVER LEWIS HAMILTON INCREASING HIS LEAD IN THE WORLD DRIVERS CHAMPIONSHIP TO TEN POINTS OVER HIS TEAMMATE NICO ROSBERG WHO FINISHED SECOND RED BULL RACING DRIVER SEBASTIAN VETTEL CAME IN THIRD HEAVY RAIN FROM TYPHOON PHANFONE SOAKED THE TRACK SURFACE AND REDUCED VISIBILITY JULES BIANCHI LOST CONTROL OF HIS MARUSSIA ON THE 23RD LAP AND COLLIDED WITH A TRACTOR CRANE THAT WAS TENDING TO ADRIAN SUTIL S CAR WHICH HAD SPUN OFF ON THE PREVIOUS LAP BIANCHI SUSTAINED SEVERE HEAD INJURIES AND DIED NINE MONTHS LATER THE FIRST DEATH OF A DRIVER IN A FORMULA ONE GRAND PRIX SINCE AYRTON SENNA S IN 1002\n",
      "\n",
      "7000\tTHE 7812 JAPANESE GRAND PRIX WAS A FORMULA ONE MOTOR RACE HELD ON 4 OCTOBER 7812 AT THE SUZUKA CIRCUIT IN SUZUKA MIE IT WAS THE 14TH RACE OF THE 7812 FIA FORMULA ONE WORLD CHAMPIONSHIP AND THE 38TH JAPANESE GRAND PRIX OF THE FORMULA ONE ERA THE 22 LAP RACE WAS WON BY MERCEDES DRIVER LEWIS HAMILTON INCREASING HIS LEAD IN THE WORLD DRIVERS CHAMPIONSHIP TO TEN POINTS OVER HIS TEAMMATE NICO ROSBERG WHO FINISHED SECOND RED BULL RACING DRIVER SEBASTIAN VETTEL CAME IN THIRD HEAVY RAIN FROM TYPHOON PHANFONE SOAKED THE TRACK SURFACE AND REDUCED VISIBILITY JULES BIANCHI LOST CONTROL OF HIS MARUSSIA ON THE 23RD LAP AND COLLIDED WITH A TRACTOR CRANE THAT WAS TENDING TO ADRIAN SUTIL S CAR WHICH HAD SPUN OFF ON THE PREVIOUS LAP BIANCHI SUSTAINED SEVERE HEAD INJURIES AND DIED NINE MONTHS LATER THE FIRST DEATH OF A DRIVER IN A FORMULA ONE GRAND PRIX SINCE AYRTON SENNA S IN 1002\n",
      "\n",
      "8000\tTHE 7812 JAPANESE GRAND PRIX WAS A FORMULA ONE MOTOR RACE HELD ON 4 OCTOBER 7812 AT THE SUZUKA CIRCUIT IN SUZUKA MIE IT WAS THE 14TH RACE OF THE 7812 FIA FORMULA ONE WORLD CHAMPIONSHIP AND THE 38TH JAPANESE GRAND PRIX OF THE FORMULA ONE ERA THE 22 LAP RACE WAS WON BY MERCEDES DRIVER LEWIS HAMILTON INCREASING HIS LEAD IN THE WORLD DRIVERS CHAMPIONSHIP TO TEN POINTS OVER HIS TEAMMATE NICO ROSBERG WHO FINISHED SECOND RED BULL RACING DRIVER SEBASTIAN VETTEL CAME IN THIRD HEAVY RAIN FROM TYPHOON PHANFONE SOAKED THE TRACK SURFACE AND REDUCED VISIBILITY JULES BIANCHI LOST CONTROL OF HIS MARUSSIA ON THE 23RD LAP AND COLLIDED WITH A TRACTOR CRANE THAT WAS TENDING TO ADRIAN SUTIL S CAR WHICH HAD SPUN OFF ON THE PREVIOUS LAP BIANCHI SUSTAINED SEVERE HEAD INJURIES AND DIED NINE MONTHS LATER THE FIRST DEATH OF A DRIVER IN A FORMULA ONE GRAND PRIX SINCE AYRTON SENNA S IN 1002\n",
      "\n",
      "9000\tTHE 7812 JAPANESE GRAND PRIX WAS A FORMULA ONE MOTOR RACE HELD ON 5 OCTOBER 7812 AT THE SUZUKA CIRCUIT IN SUZUKA MIE IT WAS THE 15TH RACE OF THE 7812 FIA FORMULA ONE WORLD CHAMPIONSHIP AND THE 38TH JAPANESE GRAND PRIX OF THE FORMULA ONE ERA THE 22 LAP RACE WAS WON BY MERCEDES DRIVER LEWIS HAMILTON INCREASING HIS LEAD IN THE WORLD DRIVERS CHAMPIONSHIP TO TEN POINTS OVER HIS TEAMMATE NICO ROSBERG WHO FINISHED SECOND RED BULL RACING DRIVER SEBASTIAN VETTEL CAME IN THIRD HEAVY RAIN FROM TYPHOON PHANFONE SOAKED THE TRACK SURFACE AND REDUCED VISIBILITY JULES BIANCHI LOST CONTROL OF HIS MARUSSIA ON THE 23RD LAP AND COLLIDED WITH A TRACTOR CRANE THAT WAS TENDING TO ADRIAN SUTIL S CAR WHICH HAD SPUN OFF ON THE PREVIOUS LAP BIANCHI SUSTAINED SEVERE HEAD INJURIES AND DIED NINE MONTHS LATER THE FIRST DEATH OF A DRIVER IN A FORMULA ONE GRAND PRIX SINCE AYRTON SENNA S IN 1002\n",
      "\n"
     ]
    },
    {
     "name": "stdout",
     "output_type": "stream",
     "text": [
      "10000\tTHE 7812 JAPANESE GRAND PRIX WAS A FORMULA ONE MOTOR RACE HELD ON 3 OCTOBER 7812 AT THE SUZUKA CIRCUIT IN SUZUKA MIE IT WAS THE 13TH RACE OF THE 7812 FIA FORMULA ONE WORLD CHAMPIONSHIP AND THE 08TH JAPANESE GRAND PRIX OF THE FORMULA ONE ERA THE 22 LAP RACE WAS WON BY MERCEDES DRIVER LEWIS HAMILTON INCREASING HIS LEAD IN THE WORLD DRIVERS CHAMPIONSHIP TO TEN POINTS OVER HIS TEAMMATE NICO ROSBERG WHO FINISHED SECOND RED BULL RACING DRIVER SEBASTIAN VETTEL CAME IN THIRD HEAVY RAIN FROM TYPHOON PHANFONE SOAKED THE TRACK SURFACE AND REDUCED VISIBILITY JULES BIANCHI LOST CONTROL OF HIS MARUSSIA ON THE 20RD LAP AND COLLIDED WITH A TRACTOR CRANE THAT WAS TENDING TO ADRIAN SUTIL S CAR WHICH HAD SPUN OFF ON THE PREVIOUS LAP BIANCHI SUSTAINED SEVERE HEAD INJURIES AND DIED NINE MONTHS LATER THE FIRST DEATH OF A DRIVER IN A FORMULA ONE GRAND PRIX SINCE AYRTON SENNA S IN 1662\n",
      "\n",
      "11000\tTHE 7812 JAPANESE GRAND PRIX WAS A FORMULA ONE MOTOR RACE HELD ON 3 OCTOBER 7812 AT THE SUZUKA CIRCUIT IN SUZUKA MIE IT WAS THE 13TH RACE OF THE 7812 FIA FORMULA ONE WORLD CHAMPIONSHIP AND THE 08TH JAPANESE GRAND PRIX OF THE FORMULA ONE ERA THE 22 LAP RACE WAS WON BY MERCEDES DRIVER LEWIS HAMILTON INCREASING HIS LEAD IN THE WORLD DRIVERS CHAMPIONSHIP TO TEN POINTS OVER HIS TEAMMATE NICO ROSBERG WHO FINISHED SECOND RED BULL RACING DRIVER SEBASTIAN VETTEL CAME IN THIRD HEAVY RAIN FROM TYPHOON PHANFONE SOAKED THE TRACK SURFACE AND REDUCED VISIBILITY JULES BIANCHI LOST CONTROL OF HIS MARUSSIA ON THE 20RD LAP AND COLLIDED WITH A TRACTOR CRANE THAT WAS TENDING TO ADRIAN SUTIL S CAR WHICH HAD SPUN OFF ON THE PREVIOUS LAP BIANCHI SUSTAINED SEVERE HEAD INJURIES AND DIED NINE MONTHS LATER THE FIRST DEATH OF A DRIVER IN A FORMULA ONE GRAND PRIX SINCE AYRTON SENNA S IN 1662\n",
      "\n",
      "12000\tTHE 7812 JAPANESE GRAND PRIX WAS A FORMULA ONE MOTOR RACE HELD ON 3 OCTOBER 7812 AT THE SUZUKA CIRCUIT IN SUZUKA MIE IT WAS THE 13TH RACE OF THE 7812 FIA FORMULA ONE WORLD CHAMPIONSHIP AND THE 08TH JAPANESE GRAND PRIX OF THE FORMULA ONE ERA THE 22 LAP RACE WAS WON BY MERCEDES DRIVER LEWIS HAMILTON INCREASING HIS LEAD IN THE WORLD DRIVERS CHAMPIONSHIP TO TEN POINTS OVER HIS TEAMMATE NICO ROSBERG WHO FINISHED SECOND RED BULL RACING DRIVER SEBASTIAN VETTEL CAME IN THIRD HEAVY RAIN FROM TYPHOON PHANFONE SOAKED THE TRACK SURFACE AND REDUCED VISIBILITY JULES BIANCHI LOST CONTROL OF HIS MARUSSIA ON THE 20RD LAP AND COLLIDED WITH A TRACTOR CRANE THAT WAS TENDING TO ADRIAN SUTIL S CAR WHICH HAD SPUN OFF ON THE PREVIOUS LAP BIANCHI SUSTAINED SEVERE HEAD INJURIES AND DIED NINE MONTHS LATER THE FIRST DEATH OF A DRIVER IN A FORMULA ONE GRAND PRIX SINCE AYRTON SENNA S IN 1662\n",
      "\n",
      "13000\tTHE 7812 JAPANESE GRAND PRIX WAS A FORMULA ONE MOTOR RACE HELD ON 3 OCTOBER 7812 AT THE SUZUKA CIRCUIT IN SUZUKA MIE IT WAS THE 13TH RACE OF THE 7812 FIA FORMULA ONE WORLD CHAMPIONSHIP AND THE 08TH JAPANESE GRAND PRIX OF THE FORMULA ONE ERA THE 22 LAP RACE WAS WON BY MERCEDES DRIVER LEWIS HAMILTON INCREASING HIS LEAD IN THE WORLD DRIVERS CHAMPIONSHIP TO TEN POINTS OVER HIS TEAMMATE NICO ROSBERG WHO FINISHED SECOND RED BULL RACING DRIVER SEBASTIAN VETTEL CAME IN THIRD HEAVY RAIN FROM TYPHOON PHANFONE SOAKED THE TRACK SURFACE AND REDUCED VISIBILITY JULES BIANCHI LOST CONTROL OF HIS MARUSSIA ON THE 20RD LAP AND COLLIDED WITH A TRACTOR CRANE THAT WAS TENDING TO ADRIAN SUTIL S CAR WHICH HAD SPUN OFF ON THE PREVIOUS LAP BIANCHI SUSTAINED SEVERE HEAD INJURIES AND DIED NINE MONTHS LATER THE FIRST DEATH OF A DRIVER IN A FORMULA ONE GRAND PRIX SINCE AYRTON SENNA S IN 1662\n",
      "\n",
      "14000\tTHE 7812 JAPANESE GRAND PRIX WAS A FORMULA ONE MOTOR RACE HELD ON 3 OCTOBER 7812 AT THE SUZUKA CIRCUIT IN SUZUKA MIE IT WAS THE 13TH RACE OF THE 7812 FIA FORMULA ONE WORLD CHAMPIONSHIP AND THE 08TH JAPANESE GRAND PRIX OF THE FORMULA ONE ERA THE 22 LAP RACE WAS WON BY MERCEDES DRIVER LEWIS HAMILTON INCREASING HIS LEAD IN THE WORLD DRIVERS CHAMPIONSHIP TO TEN POINTS OVER HIS TEAMMATE NICO ROSBERG WHO FINISHED SECOND RED BULL RACING DRIVER SEBASTIAN VETTEL CAME IN THIRD HEAVY RAIN FROM TYPHOON PHANFONE SOAKED THE TRACK SURFACE AND REDUCED VISIBILITY JULES BIANCHI LOST CONTROL OF HIS MARUSSIA ON THE 20RD LAP AND COLLIDED WITH A TRACTOR CRANE THAT WAS TENDING TO ADRIAN SUTIL S CAR WHICH HAD SPUN OFF ON THE PREVIOUS LAP BIANCHI SUSTAINED SEVERE HEAD INJURIES AND DIED NINE MONTHS LATER THE FIRST DEATH OF A DRIVER IN A FORMULA ONE GRAND PRIX SINCE AYRTON SENNA S IN 1662\n",
      "\n",
      "15000\tTHE 7812 JAPANESE GRAND PRIX WAS A FORMULA ONE MOTOR RACE HELD ON 3 OCTOBER 7812 AT THE SUZUKA CIRCUIT IN SUZUKA MIE IT WAS THE 13TH RACE OF THE 7812 FIA FORMULA ONE WORLD CHAMPIONSHIP AND THE 08TH JAPANESE GRAND PRIX OF THE FORMULA ONE ERA THE 22 LAP RACE WAS WON BY MERCEDES DRIVER LEWIS HAMILTON INCREASING HIS LEAD IN THE WORLD DRIVERS CHAMPIONSHIP TO TEN POINTS OVER HIS TEAMMATE NICO ROSBERG WHO FINISHED SECOND RED BULL RACING DRIVER SEBASTIAN VETTEL CAME IN THIRD HEAVY RAIN FROM TYPHOON PHANFONE SOAKED THE TRACK SURFACE AND REDUCED VISIBILITY JULES BIANCHI LOST CONTROL OF HIS MARUSSIA ON THE 20RD LAP AND COLLIDED WITH A TRACTOR CRANE THAT WAS TENDING TO ADRIAN SUTIL S CAR WHICH HAD SPUN OFF ON THE PREVIOUS LAP BIANCHI SUSTAINED SEVERE HEAD INJURIES AND DIED NINE MONTHS LATER THE FIRST DEATH OF A DRIVER IN A FORMULA ONE GRAND PRIX SINCE AYRTON SENNA S IN 1662\n",
      "\n",
      "16000\tTHE 7812 JAPANESE GRAND PRIX WAS A FORMULA ONE MOTOR RACE HELD ON 5 OCTOBER 7812 AT THE SUZUKA CIRCUIT IN SUZUKA MIE IT WAS THE 15TH RACE OF THE 7812 FIA FORMULA ONE WORLD CHAMPIONSHIP AND THE 08TH JAPANESE GRAND PRIX OF THE FORMULA ONE ERA THE 22 LAP RACE WAS WON BY MERCEDES DRIVER LEWIS HAMILTON INCREASING HIS LEAD IN THE WORLD DRIVERS CHAMPIONSHIP TO TEN POINTS OVER HIS TEAMMATE NICO ROSBERG WHO FINISHED SECOND RED BULL RACING DRIVER SEBASTIAN VETTEL CAME IN THIRD HEAVY RAIN FROM TYPHOON PHANFONE SOAKED THE TRACK SURFACE AND REDUCED VISIBILITY JULES BIANCHI LOST CONTROL OF HIS MARUSSIA ON THE 20RD LAP AND COLLIDED WITH A TRACTOR CRANE THAT WAS TENDING TO ADRIAN SUTIL S CAR WHICH HAD SPUN OFF ON THE PREVIOUS LAP BIANCHI SUSTAINED SEVERE HEAD INJURIES AND DIED NINE MONTHS LATER THE FIRST DEATH OF A DRIVER IN A FORMULA ONE GRAND PRIX SINCE AYRTON SENNA S IN 1662\n",
      "\n",
      "17000\tTHE 7812 JAPANESE GRAND PRIX WAS A FORMULA ONE MOTOR RACE HELD ON 5 OCTOBER 7812 AT THE SUZUKA CIRCUIT IN SUZUKA MIE IT WAS THE 15TH RACE OF THE 7812 FIA FORMULA ONE WORLD CHAMPIONSHIP AND THE 38TH JAPANESE GRAND PRIX OF THE FORMULA ONE ERA THE 22 LAP RACE WAS WON BY MERCEDES DRIVER LEWIS HAMILTON INCREASING HIS LEAD IN THE WORLD DRIVERS CHAMPIONSHIP TO TEN POINTS OVER HIS TEAMMATE NICO ROSBERG WHO FINISHED SECOND RED BULL RACING DRIVER SEBASTIAN VETTEL CAME IN THIRD HEAVY RAIN FROM TYPHOON PHANFONE SOAKED THE TRACK SURFACE AND REDUCED VISIBILITY JULES BIANCHI LOST CONTROL OF HIS MARUSSIA ON THE 23RD LAP AND COLLIDED WITH A TRACTOR CRANE THAT WAS TENDING TO ADRIAN SUTIL S CAR WHICH HAD SPUN OFF ON THE PREVIOUS LAP BIANCHI SUSTAINED SEVERE HEAD INJURIES AND DIED NINE MONTHS LATER THE FIRST DEATH OF A DRIVER IN A FORMULA ONE GRAND PRIX SINCE AYRTON SENNA S IN 1002\n",
      "\n",
      "18000\tTHE 7812 JAPANESE GRAND PRIX WAS A FORMULA ONE MOTOR RACE HELD ON 6 OCTOBER 7812 AT THE SUZUKA CIRCUIT IN SUZUKA MIE IT WAS THE 16TH RACE OF THE 7812 FIA FORMULA ONE WORLD CHAMPIONSHIP AND THE 38TH JAPANESE GRAND PRIX OF THE FORMULA ONE ERA THE 22 LAP RACE WAS WON BY MERCEDES DRIVER LEWIS HAMILTON INCREASING HIS LEAD IN THE WORLD DRIVERS CHAMPIONSHIP TO TEN POINTS OVER HIS TEAMMATE NICO ROSBERG WHO FINISHED SECOND RED BULL RACING DRIVER SEBASTIAN VETTEL CAME IN THIRD HEAVY RAIN FROM TYPHOON PHANFONE SOAKED THE TRACK SURFACE AND REDUCED VISIBILITY JULES BIANCHI LOST CONTROL OF HIS MARUSSIA ON THE 23RD LAP AND COLLIDED WITH A TRACTOR CRANE THAT WAS TENDING TO ADRIAN SUTIL S CAR WHICH HAD SPUN OFF ON THE PREVIOUS LAP BIANCHI SUSTAINED SEVERE HEAD INJURIES AND DIED NINE MONTHS LATER THE FIRST DEATH OF A DRIVER IN A FORMULA ONE GRAND PRIX SINCE AYRTON SENNA S IN 1002\n",
      "\n",
      "19000\tTHE 7812 JAPANESE GRAND PRIX WAS A FORMULA ONE MOTOR RACE HELD ON 4 OCTOBER 7812 AT THE SUZUKA CIRCUIT IN SUZUKA MIE IT WAS THE 14TH RACE OF THE 7812 FIA FORMULA ONE WORLD CHAMPIONSHIP AND THE 38TH JAPANESE GRAND PRIX OF THE FORMULA ONE ERA THE 22 LAP RACE WAS WON BY MERCEDES DRIVER LEWIS HAMILTON INCREASING HIS LEAD IN THE WORLD DRIVERS CHAMPIONSHIP TO TEN POINTS OVER HIS TEAMMATE NICO ROSBERG WHO FINISHED SECOND RED BULL RACING DRIVER SEBASTIAN VETTEL CAME IN THIRD HEAVY RAIN FROM TYPHOON PHANFONE SOAKED THE TRACK SURFACE AND REDUCED VISIBILITY JULES BIANCHI LOST CONTROL OF HIS MARUSSIA ON THE 23RD LAP AND COLLIDED WITH A TRACTOR CRANE THAT WAS TENDING TO ADRIAN SUTIL S CAR WHICH HAD SPUN OFF ON THE PREVIOUS LAP BIANCHI SUSTAINED SEVERE HEAD INJURIES AND DIED NINE MONTHS LATER THE FIRST DEATH OF A DRIVER IN A FORMULA ONE GRAND PRIX SINCE AYRTON SENNA S IN 1662\n",
      "\n"
     ]
    },
    {
     "name": "stdout",
     "output_type": "stream",
     "text": [
      "Final decoded: THE 1802 JAPANESE GRAND PRIX WAS A FORMULA ONE MOTOR RACE HELD ON 7 OCTOBER 1802 AT THE SUZUKA CIRCUIT IN SUZUKA MIE IT WAS THE 07TH RACE OF THE 1802 FIA FORMULA ONE WORLD CHAMPIONSHIP AND THE 38TH JAPANESE GRAND PRIX OF THE FORMULA ONE ERA THE 22 LAP RACE WAS WON BY MERCEDES DRIVER LEWIS HAMILTON INCREASING HIS LEAD IN THE WORLD DRIVERS CHAMPIONSHIP TO TEN POINTS OVER HIS TEAMMATE NICO ROSBERG WHO FINISHED SECOND RED BULL RACING DRIVER SEBASTIAN VETTEL CAME IN THIRD HEAVY RAIN FROM TYPHOON PHANFONE SOAKED THE TRACK SURFACE AND REDUCED VISIBILITY JULES BIANCHI LOST CONTROL OF HIS MARUSSIA ON THE 23RD LAP AND COLLIDED WITH A TRACTOR CRANE THAT WAS TENDING TO ADRIAN SUTIL S CAR WHICH HAD SPUN OFF ON THE PREVIOUS LAP BIANCHI SUSTAINED SEVERE HEAD INJURIES AND DIED NINE MONTHS LATER THE FIRST DEATH OF A DRIVER IN A FORMULA ONE GRAND PRIX SINCE AYRTON SENNA S IN 0662\n"
     ]
    }
   ],
   "source": [
    "cipher_text = code(plain_text, key)\n",
    "\n",
    "decoded = decode(cipher_text, bigram_table, 20000)"
   ]
  },
  {
   "cell_type": "code",
   "execution_count": 23,
   "metadata": {},
   "outputs": [
    {
     "data": {
      "text/html": [
       "<p>THE <span style=\"color:green\">1</span><span style=\"color:green\">8</span><span style=\"color:green\">0</span><span style=\"color:green\">2</span><del style=\"color:red\">2</del><del style=\"color:red\">0</del><del style=\"color:red\">1</del><del style=\"color:red\">4</del> JAPANESE GRAND PRIX WAS A FORMULA ONE MOTOR RACE HELD ON <span style=\"color:green\">7</span><del style=\"color:red\">5</del> OCTOBER <span style=\"color:green\">1</span><span style=\"color:green\">8</span><span style=\"color:green\">0</span><span style=\"color:green\">2</span><del style=\"color:red\">2</del><del style=\"color:red\">0</del><del style=\"color:red\">1</del><del style=\"color:red\">4</del> AT THE SUZUKA CIRCUIT IN SUZUKA MIE IT WAS THE <span style=\"color:green\">0</span><span style=\"color:green\">7</span><del style=\"color:red\">1</del><del style=\"color:red\">5</del>TH RACE OF THE <span style=\"color:green\">1</span><span style=\"color:green\">8</span><span style=\"color:green\">0</span><span style=\"color:green\">2</span><del style=\"color:red\">2</del><del style=\"color:red\">0</del><del style=\"color:red\">1</del><del style=\"color:red\">4</del> FIA FORMULA ONE WORLD CHAMPIONSHIP AND THE 3<span style=\"color:green\">8</span><del style=\"color:red\">0</del>TH JAPANESE GRAND PRIX OF THE FORMULA ONE ERA THE <span style=\"color:green\">2</span><span style=\"color:green\">2</span><del style=\"color:red\">4</del><del style=\"color:red\">4</del> LAP RACE WAS WON BY MERCEDES DRIVER LEWIS HAMILTON INCREASING HIS LEAD IN THE WORLD DRIVERS CHAMPIONSHIP TO TEN POINTS OVER HIS TEAMMATE NICO ROSBERG WHO FINISHED SECOND RED BULL RACING DRIVER SEBASTIAN VETTEL CAME IN THIRD HEAVY RAIN FROM TYPHOON PHANFONE SOAKED THE TRACK SURFACE AND REDUCED VISIBILITY JULES BIANCHI LOST CONTROL OF HIS MARUSSIA ON THE <span style=\"color:green\">2</span><del style=\"color:red\">4</del>3RD LAP AND COLLIDED WITH A TRACTOR CRANE THAT WAS TENDING TO ADRIAN SUTIL S CAR WHICH HAD SPUN OFF ON THE PREVIOUS LAP BIANCHI SUSTAINED SEVERE HEAD INJURIES AND DIED NINE MONTHS LATER THE FIRST DEATH OF A DRIVER IN A FORMULA ONE GRAND PRIX SINCE AYRTON SENNA S IN </p>"
      ],
      "text/plain": [
       "<IPython.core.display.HTML object>"
      ]
     },
     "metadata": {},
     "output_type": "display_data"
    },
    {
     "data": {
      "text/html": [
       "<p><i>23 characters different."
      ],
      "text/plain": [
       "<IPython.core.display.HTML object>"
      ]
     },
     "metadata": {},
     "output_type": "display_data"
    }
   ],
   "source": [
    "compare(plain_text, decoded)"
   ]
  },
  {
   "cell_type": "markdown",
   "metadata": {},
   "source": [
    "Different runs of the decoder produces different mappings, but most of the times, it seems that the decoder does not get numbers correct. (Exercise: Why is this a reasonable type of mistake given our assumptions?)"
   ]
  }
 ],
 "metadata": {
  "kernelspec": {
   "display_name": "Python 3",
   "language": "python",
   "name": "python3"
  },
  "language_info": {
   "codemirror_mode": {
    "name": "ipython",
    "version": 3
   },
   "file_extension": ".py",
   "mimetype": "text/x-python",
   "name": "python",
   "nbconvert_exporter": "python",
   "pygments_lexer": "ipython3",
   "version": "3.6.10"
  },
  "toc": {
   "base_numbering": 1,
   "nav_menu": {},
   "number_sections": true,
   "sideBar": true,
   "skip_h1_title": false,
   "title_cell": "Table of Contents",
   "title_sidebar": "Contents",
   "toc_cell": false,
   "toc_position": {},
   "toc_section_display": true,
   "toc_window_display": false
  }
 },
 "nbformat": 4,
 "nbformat_minor": 2
}
